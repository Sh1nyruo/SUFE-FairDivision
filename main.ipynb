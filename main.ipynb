{
 "cells": [
  {
   "cell_type": "code",
   "execution_count": null,
   "metadata": {},
   "outputs": [],
   "source": [
    "import fair\n",
    "divide = fair.divide"
   ]
  },
  {
   "cell_type": "code",
   "execution_count": null,
   "metadata": {},
   "outputs": [],
   "source": [
    "input_4_agents_small_instance_1 = {\n",
    "    \"Agent1\": {\"a\": 1, \"b\": 0, \"c\": 0, \"d\": 0, \"e\": 0},\n",
    "    \"Agent2\": {\"a\": 15, \"b\": 2, \"c\": 0, \"d\": 0, \"e\": 0},\n",
    "    \"Agent3\": {\"a\": 15, \"b\": 0, \"c\": 1, \"d\": 1, \"e\": 1},\n",
    "    \"Agent4\": {\"a\": 3, \"b\": 2, \"c\": 1, \"d\": 1, \"e\": 1},\n",
    "}\n",
    "input_3_agents =   {'Agent1': {'a': 10, 'b': 9, 'c': 4, 'd': 6},\n",
    "  'Agent2': {'a': 10, 'b': 6, 'c': 9, 'd': 4},\n",
    "  'Agent3': {'a': 10, 'b': 4, 'c': 6, 'd': 9}}"
   ]
  },
  {
   "cell_type": "markdown",
   "metadata": {},
   "source": [
    "## Maximizing Nash Social Welfare Algorithms"
   ]
  },
  {
   "cell_type": "markdown",
   "metadata": {},
   "source": [
    "Brute Force"
   ]
  },
  {
   "cell_type": "code",
   "execution_count": null,
   "metadata": {},
   "outputs": [],
   "source": [
    "divide(fair.nashwelfare.max_nash_welfare_brute_force, input_4_agents_small_instance_1)"
   ]
  },
  {
   "cell_type": "markdown",
   "metadata": {},
   "source": [
    "Round Robin:"
   ]
  },
  {
   "cell_type": "code",
   "execution_count": null,
   "metadata": {},
   "outputs": [],
   "source": [
    "divide(fair.nashwelfare.round_robin, input_4_agents_small_instance_1)"
   ]
  },
  {
   "cell_type": "markdown",
   "metadata": {},
   "source": [
    "Approximating Algorithm:"
   ]
  },
  {
   "cell_type": "code",
   "execution_count": null,
   "metadata": {},
   "outputs": [],
   "source": [
    "divide(fair.nashwelfare.rv_approximating_nash_welfare, input_4_agents_small_instance_1)"
   ]
  },
  {
   "cell_type": "markdown",
   "metadata": {},
   "source": [
    "## Algorithm for finding EFX allocation with donations"
   ]
  },
  {
   "cell_type": "markdown",
   "metadata": {},
   "source": [
    "Optimal:"
   ]
  },
  {
   "cell_type": "code",
   "execution_count": null,
   "metadata": {},
   "outputs": [],
   "source": [
    "divide(fair.nashwelfare.divsion_with_donating, input_4_agents_small_instance_1, optimal = True)"
   ]
  },
  {
   "cell_type": "markdown",
   "metadata": {},
   "source": [
    "Rounb Robin as input allocation:"
   ]
  },
  {
   "cell_type": "code",
   "execution_count": null,
   "metadata": {},
   "outputs": [],
   "source": [
    "divide(fair.nashwelfare.divsion_with_donating, input_4_agents_small_instance_1, NSW_algorithm = fair.nashwelfare.round_robin)"
   ]
  },
  {
   "cell_type": "markdown",
   "metadata": {},
   "source": [
    "Approximating Algorithm as input allocation:"
   ]
  },
  {
   "cell_type": "code",
   "execution_count": null,
   "metadata": {},
   "outputs": [],
   "source": [
    "divide(fair.nashwelfare.divsion_with_donating, input_4_agents_small_instance_1, NSW_algorithm = fair.nashwelfare.rv_approximating_nash_welfare)"
   ]
  }
 ],
 "metadata": {
  "kernelspec": {
   "display_name": "fairpy",
   "language": "python",
   "name": "python3"
  },
  "language_info": {
   "codemirror_mode": {
    "name": "ipython",
    "version": 3
   },
   "file_extension": ".py",
   "mimetype": "text/x-python",
   "name": "python",
   "nbconvert_exporter": "python",
   "pygments_lexer": "ipython3",
   "version": "3.10.14"
  }
 },
 "nbformat": 4,
 "nbformat_minor": 2
}
